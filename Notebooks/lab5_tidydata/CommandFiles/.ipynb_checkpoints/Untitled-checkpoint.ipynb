{
 "cells": [
  {
   "cell_type": "code",
   "execution_count": null,
   "id": "aaec1331",
   "metadata": {},
   "outputs": [],
   "source": [
    "import pandas as pd"
   ]
  },
  {
   "cell_type": "markdown",
   "id": "2901278d",
   "metadata": {},
   "source": [
    "4. drinks.csv Dane i informacje: https://fivethirtyeight.com/features/dear-mona-followup-where-do-people-drink-the-most-beer-wine-and-spirits/"
   ]
  },
  {
   "cell_type": "code",
   "execution_count": null,
   "id": "34c6654a",
   "metadata": {},
   "outputs": [],
   "source": [
    "#specify paths to original and alasysis data\n",
    "Analysis_DIR = \"../AnalysisData/\"\n",
    "Original_DIR = \"../OriginalData/\""
   ]
  },
  {
   "cell_type": "code",
   "execution_count": null,
   "id": "a4b1e25b",
   "metadata": {},
   "outputs": [],
   "source": [
    "#read original data\n",
    "drinks = pd.read_csv(f\"{Original_DIR}drinks.csv\")\n"
   ]
  }
 ],
 "metadata": {
  "kernelspec": {
   "display_name": "Python 3 (ipykernel)",
   "language": "python",
   "name": "python3"
  },
  "language_info": {
   "codemirror_mode": {
    "name": "ipython",
    "version": 3
   },
   "file_extension": ".py",
   "mimetype": "text/x-python",
   "name": "python",
   "nbconvert_exporter": "python",
   "pygments_lexer": "ipython3",
   "version": "3.9.13"
  }
 },
 "nbformat": 4,
 "nbformat_minor": 5
}
